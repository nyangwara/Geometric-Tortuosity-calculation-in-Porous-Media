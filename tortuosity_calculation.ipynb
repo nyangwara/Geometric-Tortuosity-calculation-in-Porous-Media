{
  "nbformat": 4,
  "nbformat_minor": 0,
  "metadata": {
    "colab": {
      "provenance": [],
      "include_colab_link": true
    },
    "kernelspec": {
      "name": "python3",
      "display_name": "Python 3"
    },
    "language_info": {
      "name": "python"
    }
  },
  "cells": [
    {
      "cell_type": "markdown",
      "metadata": {
        "id": "view-in-github",
        "colab_type": "text"
      },
      "source": [
        "<a href=\"https://colab.research.google.com/github/nyangwara/Geometric-Tortuosity-calculation-in-Porous-Media/blob/main/tortuosity_calculation.ipynb\" target=\"_parent\"><img src=\"https://colab.research.google.com/assets/colab-badge.svg\" alt=\"Open In Colab\"/></a>"
      ]
    },
    {
      "cell_type": "markdown",
      "source": [
        "https://github.com/seung-lab/euclidean-distance-transform-3d/\n",
        "https://stackoverflow.com/questions/30802269/merging-2d-slices-into-3d-volume-in-python\n",
        "\n",
        "https://pydicom.github.io/pydicom/dev/auto_examples/image_processing/reslice.html\n",
        "\n"
      ],
      "metadata": {
        "id": "q4NyADDkqXs4"
      }
    },
    {
      "cell_type": "code",
      "source": [
        "from google.colab import drive\n",
        "drive.mount('/content/drive')"
      ],
      "metadata": {
        "colab": {
          "base_uri": "https://localhost:8080/"
        },
        "id": "JW2_R5b7xwqe",
        "outputId": "286d1329-9624-4b69-c651-ffc9d20c8158"
      },
      "execution_count": null,
      "outputs": [
        {
          "output_type": "stream",
          "name": "stdout",
          "text": [
            "Mounted at /content/drive\n"
          ]
        }
      ]
    },
    {
      "cell_type": "code",
      "source": [
        "!pip install edt"
      ],
      "metadata": {
        "colab": {
          "base_uri": "https://localhost:8080/"
        },
        "id": "r2gG8twia1m1",
        "outputId": "ffb1be6b-54b0-4555-a9c6-d98a1fe9ee1a"
      },
      "execution_count": null,
      "outputs": [
        {
          "output_type": "stream",
          "name": "stdout",
          "text": [
            "Looking in indexes: https://pypi.org/simple, https://us-python.pkg.dev/colab-wheels/public/simple/\n",
            "Collecting edt\n",
            "  Downloading edt-2.3.0-cp38-cp38-manylinux_2_17_x86_64.manylinux2014_x86_64.whl (2.9 MB)\n",
            "\u001b[K     |████████████████████████████████| 2.9 MB 22.2 MB/s \n",
            "\u001b[?25hRequirement already satisfied: numpy in /usr/local/lib/python3.8/dist-packages (from edt) (1.21.6)\n",
            "Installing collected packages: edt\n",
            "Successfully installed edt-2.3.0\n"
          ]
        }
      ]
    },
    {
      "cell_type": "code",
      "source": [
        "from pathlib import Path\n",
        "some_path=''\n",
        "p = Path(some_path)\n",
        "p.rename(Path(p.parent, f\"{p.stem}_1_{p.suffix}\"))"
      ],
      "metadata": {
        "id": "DOA_q80Fb0G7"
      },
      "execution_count": null,
      "outputs": []
    },
    {
      "cell_type": "markdown",
      "source": [
        "\n",
        "\n",
        "\n",
        "*os.rename('a.txt', 'b.kml')\n",
        "*old_file = os.path.join(\"directory\", \"a.txt\") \n",
        "*new_file = os.path.join(\"directory\", \"b.kml\")\n",
        "*os.rename(old_file, new_file)\n",
        "\n"
      ],
      "metadata": {
        "id": "liywZCgGcCX3"
      }
    },
    {
      "cell_type": "code",
      "source": [
        "import numpy as np\n",
        "import os\n",
        "import glob\n",
        "import cv2\n",
        "import edt\n",
        "\n",
        "allowable_extensions = ['.png', '.tif', '.tiff', '.bmp', '.dib', '.jpg', '.jpeg']\n",
        "\n",
        "def get_index_from_file_name(path_name):\n",
        "    ''' return index from path_name\n",
        "        e.g. for image0001 index is 1\n",
        "     '''\n",
        "    file_name = path_splitted = os.path.split(path_name)[-1]\n",
        "    file_name = os.path.splitext(file_name)[0]\n",
        "    i = len(file_name) - 1\n",
        "    while(file_name[i].isdigit()== True and i >= 0 ):\n",
        "        i -= 1\n",
        "    if i == len(file_name) - 1: # there are no any digits\n",
        "        return -1\n",
        "    return int(file_name[i+1:])\n",
        "\n",
        "def read_slices(path_to_first_slice):\n",
        "\n",
        "    # check correctness of type of input parameter\n",
        "    if not isinstance(path_to_first_slice, str):\n",
        "        raise TypeError('Parameter path_to_first_slice has to be string!')\n",
        "\n",
        "    path_splitted = os.path.split(path_to_first_slice)\n",
        "    first_slice_file_name = path_splitted[-1]\n",
        "    filename_splitted = os.path.splitext(first_slice_file_name)\n",
        "    first_slice_extension = filename_splitted[-1]\n",
        "    if not first_slice_extension in allowable_extensions:\n",
        "        raise ValueError(first_slice_file_name + ' is unsupported file format!')\n",
        "    # open first slice\n",
        "    slice1 = cv2.imread(path_to_first_slice, cv2.IMREAD_ANYDEPTH)\n",
        "    if slice1 is None:\n",
        "        raise ValueError('OpenCV reading error for : ' + path_to_first_slice)\n",
        "    # check dimensions and bit depth\n",
        "    if slice1.ndim != 2:\n",
        "        raise ValueError(path_to_first_slice + ' must be grayscale 2D image')\n",
        "    if slice1.dtype != np.uint8: # and slice1.dtype != np.uint16:\n",
        "        raise ValueError(path_to_first_slice + ' has wrong bit depth.')\n",
        "\n",
        "    # forming of template for file names of slices\n",
        "    template_name = filename_splitted[0]\n",
        "    # trim digits on end of filename and calculate number of digits\n",
        "    digits_len = 0\n",
        "    while (len(template_name) > 0 and template_name[-1].isdigit() == True):\n",
        "        template_name = template_name[:-1]\n",
        "        digits_len += 1\n",
        "    # checking of digits in the end of file name\n",
        "    if digits_len < 3:\n",
        "        raise ValueError('Incorrect name of first slice, 4 or more digits should be in the end of file name: ' + first_slice_file_name)\n",
        "    search_template = '%s' % template_name # string copying via formatting\n",
        "    for i in range(0, digits_len):\n",
        "        search_template += \"?\"\n",
        "    # looking for maximal index of slice\n",
        "    files_list = glob.glob(os.path.join(path_splitted[0], search_template + first_slice_extension))\n",
        "    max_slice_index = 0\n",
        "    for file_name in files_list:\n",
        "        slice_index = get_index_from_file_name(file_name)\n",
        "        if slice_index > max_slice_index:\n",
        "            max_slice_index = slice_index\n",
        "\n",
        "    first_slice_index = int(filename_splitted[0][-digits_len:])\n",
        "    template_name = os.path.join(path_splitted[0], template_name + \"{0:0\" + str(digits_len) + \"}\" +\n",
        "                                 first_slice_extension)\n",
        "\n",
        "    # memory allocation for image\n",
        "    i3d = np.zeros((max_slice_index - first_slice_index + 1,) + slice1.shape, dtype=slice1.dtype)\n",
        "    i3d[0] = slice1\n",
        "    # loop through all indexes\n",
        "    k = 1\n",
        "    for i in range(first_slice_index + 1, max_slice_index + 1):\n",
        "        i3d[k] = cv2.imread(template_name.format(i), cv2.IMREAD_ANYDEPTH)\n",
        "        k += 1\n",
        "\n",
        "    return i3d\n",
        "\n"
      ],
      "metadata": {
        "id": "vJvzpypDq4K0"
      },
      "execution_count": null,
      "outputs": []
    },
    {
      "cell_type": "code",
      "source": [
        "img=read_slices(\"/content/drive/MyDrive/Model300/im_000.png\")\n",
        "img.shape"
      ],
      "metadata": {
        "colab": {
          "base_uri": "https://localhost:8080/"
        },
        "id": "3qRb4ozr5oOo",
        "outputId": "a6b30ca1-fa79-4478-d767-231e14be1930"
      },
      "execution_count": null,
      "outputs": [
        {
          "output_type": "execute_result",
          "data": {
            "text/plain": [
              "(300, 300, 300)"
            ]
          },
          "metadata": {},
          "execution_count": 8
        }
      ]
    },
    {
      "cell_type": "code",
      "source": [
        "import matplotlib.pyplot as plt\n",
        "plt.imshow(img[0,:,:], cmap = plt.cm.gray), plt.axis('off')\n",
        "plt.show()"
      ],
      "metadata": {
        "id": "2j5NKDis30BE"
      },
      "execution_count": null,
      "outputs": []
    },
    {
      "cell_type": "code",
      "source": [
        "#test image\n",
        "\n",
        "img = np.zeros((100,100),np.uint8)\n",
        "img[:50,50:60] = 255\n",
        "img[50:60,20:60] = 255\n",
        "img[20:50,20:30] = 255\n",
        "img[20:25,10:20] = 255\n",
        "img[25:,10:15] = 255\n",
        "\n",
        "mask = img == 255\n",
        "\n",
        "\n",
        "import matplotlib.pyplot as plt\n",
        "plt.imshow(mask, cmap = plt.cm.gray), plt.axis('off')\n",
        "plt.show()"
      ],
      "metadata": {
        "colab": {
          "base_uri": "https://localhost:8080/",
          "height": 248
        },
        "id": "pjQhPW5Vjlk1",
        "outputId": "d36ac1a6-af47-4c83-e4a3-b308eb87064a"
      },
      "execution_count": null,
      "outputs": [
        {
          "output_type": "display_data",
          "data": {
            "text/plain": [
              "<Figure size 432x288 with 1 Axes>"
            ],
            "image/png": "[encoded data removed]"
          },
          "metadata": {
            "needs_background": "light"
          }
        }
      ]
    },
    {
      "cell_type": "code",
      "source": [
        "\n",
        "def geodesic_distance_bf(mask, seed):\n",
        "    gd = np.zeros(seed.shape, np.int32)\n",
        "\n",
        "    seeds = seed\n",
        "    prev_sum = np.sum(seeds)\n",
        "    while (True):\n",
        "        dt = edt.edt(np.logical_not(seeds), parallel=0)\n",
        "        layer = np.logical_and(dt <= 1, mask)\n",
        "        seeds = np.logical_or(seeds, layer)\n",
        "        cur_sum = np.sum(seeds)\n",
        "        gd += seeds\n",
        "        if cur_sum == prev_sum:\n",
        "            break\n",
        "        prev_sum = cur_sum\n",
        "\n",
        "    gd = np.max(gd) * np.ones(gd.shape, np.int32) - gd\n",
        "    return gd\n",
        "\n",
        "\n",
        "seeds = np.zeros((mask.shape), np.uint8)\n",
        "seeds[0, :] = 1\n",
        "seeds = np.logical_and(seeds, mask)\n",
        "\n",
        "gd = geodesic_distance_bf(mask, seeds)\n",
        "\n",
        "plt.imshow(gd, cmap=plt.cm.gray), plt.axis('off')\n",
        "plt.show()\n",
        "print(\"tortuosity =\", gd.shape[0] / np.min(gd[-1, :]))"
      ],
      "metadata": {
        "id": "OwVDtc9Lat9P"
      },
      "execution_count": null,
      "outputs": []
    },
    {
      "cell_type": "code",
      "source": [
        "def chamfer_distance(img):\n",
        "   w, h = img.shape\n",
        "   dt = mask\n",
        "   # Forward pass\n",
        "   x = 0\n",
        "   y = 0\n",
        "   if img[x,y] == 0:\n",
        "      dt[x,y] = 65535 # some large value\n",
        "   for x in range(1, w):\n",
        "      if img[x,y] == 0:\n",
        "         dt[x,y] = 3 + dt[x-1,y]\n",
        "   for y in range(1, h):\n",
        "      x = 0\n",
        "      if img[x,y] == 0:\n",
        "         dt[x,y] = min(3 + dt[x,y-1], 4 + dt[x+1,y-1])\n",
        "      for x in range(1, w-1):\n",
        "         if img[x,y] == 0:\n",
        "            dt[x,y] = min(4 + dt[x-1,y-1], 3 + dt[x,y-1], 4 + dt[x+1,y-1], 3 + dt[x-1,y])\n",
        "      x = w-1\n",
        "      if img[x,y] == 0:\n",
        "         dt[x,y] = min(4 + dt[x-1,y-1], 3 + dt[x,y-1], 3 + dt[x-1,y])\n",
        "   # Backward pass\n",
        "   for x in range(w-2, -1, -1):\n",
        "      y = h-1\n",
        "      if img[x,y] == 0:\n",
        "         dt[x,y] = min(dt[x,y], 3 + dt[x+1,y])\n",
        "   for y in range(h-2, -1, -1):\n",
        "      x = w-1\n",
        "      if img[x,y] == 0:\n",
        "         dt[x,y] = min(dt[x,y], 3 + dt[x,y+1], 4 + dt[x-1,y+1])\n",
        "      for x in range(1, w-1):\n",
        "         if img[x,y] == 0:\n",
        "            dt[x,y] = min(dt[x,y], 4 + dt[x+1,y+1], 3 + dt[x,y+1], 4 + dt[x-1,y+1], 3 + dt[x+1,y])\n",
        "      x = 0\n",
        "      if img[x,y] == 0:\n",
        "         dt[x,y] = min(dt[x,y], 4 + dt[x+1,y+1], 3 + dt[x,y+1], 3 + dt[x+1,y])\n",
        "   return dt"
      ],
      "metadata": {
        "id": "Sb-r3XxEFyuu"
      },
      "execution_count": null,
      "outputs": []
    },
    {
      "cell_type": "code",
      "source": [
        "seeds = np.zeros((mask.shape), np.uint8)\n",
        "seeds[0, :] = 1\n",
        "seeds = np.logical_and(seeds, mask)\n",
        "gd = geodesic_distance_bf(mask, seeds)\n",
        "gd=chamfer_distance(img)\n",
        "plt.imshow(gd, cmap=plt.cm.gray), plt.axis('off')\n",
        "plt.show()\n",
        "print(\"tortuosity =\", gd.shape[0] / np.min(gd[-1, :]))"
      ],
      "metadata": {
        "colab": {
          "base_uri": "https://localhost:8080/",
          "height": 265
        },
        "id": "Qvv14QjOGRWW",
        "outputId": "4032c517-920f-4e6c-94a1-37850bc91afb"
      },
      "execution_count": null,
      "outputs": [
        {
          "output_type": "display_data",
          "data": {
            "text/plain": [
              "<Figure size 432x288 with 1 Axes>"
            ],
            "image/png": "[encoded data removed]"
          },
          "metadata": {
            "needs_background": "light"
          }
        },
        {
          "output_type": "stream",
          "name": "stdout",
          "text": [
            "tortuosity = 2.0\n"
          ]
        }
      ]
    },
    {
      "cell_type": "markdown",
      "source": [
        "https://stackoverflow.com/questions/53678520/speed-up-computation-for-distance-transform-on-image-in-python"
      ],
      "metadata": {
        "id": "zaA309SgF_Am"
      }
    },
    {
      "cell_type": "code",
      "source": [
        "import numpy as np\n",
        "A=np.zeros((10,11,11),int)\n",
        "for i in range(0,5):\n",
        "    j=i+1\n",
        "    A[i, j:-j, j:-j] = i"
      ],
      "metadata": {
        "id": "hWbD9-vdr_9Z"
      },
      "execution_count": null,
      "outputs": []
    },
    {
      "cell_type": "code",
      "source": [],
      "metadata": {
        "colab": {
          "base_uri": "https://localhost:8080/"
        },
        "id": "-82_Fls9sHci",
        "outputId": "66c17b44-ae43-4939-f511-e76fb38b19a8"
      },
      "execution_count": null,
      "outputs": [
        {
          "output_type": "stream",
          "name": "stdout",
          "text": [
            "4\n"
          ]
        }
      ]
    }
  ]
}