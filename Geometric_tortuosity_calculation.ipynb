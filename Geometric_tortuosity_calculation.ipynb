{
  "nbformat": 4,
  "nbformat_minor": 0,
  "metadata": {
    "colab": {
      "provenance": [],
      "include_colab_link": true
    },
    "kernelspec": {
      "name": "python3",
      "display_name": "Python 3"
    },
    "language_info": {
      "name": "python"
    }
  },
  "cells": [
    {
      "cell_type": "markdown",
      "metadata": {
        "id": "view-in-github",
        "colab_type": "text"
      },
      "source": [
        "<a href=\"https://colab.research.google.com/github/nyangwara/Geometric-Tortuosity-calculation-in-Porous-Media/blob/main/Geometric_tortuosity_calculation.ipynb\" target=\"_parent\"><img src=\"https://colab.research.google.com/assets/colab-badge.svg\" alt=\"Open In Colab\"/></a>"
      ]
    },
    {
      "cell_type": "code",
      "source": [
        "from google.colab import drive\n",
        "drive.mount('/content/drive')"
      ],
      "metadata": {
        "id": "JW2_R5b7xwqe"
      },
      "execution_count": null,
      "outputs": []
    },
    {
      "cell_type": "code",
      "source": [
        "!pip install edt"
      ],
      "metadata": {
        "colab": {
          "base_uri": "https://localhost:8080/"
        },
        "id": "r2gG8twia1m1",
        "outputId": "323b0d13-9a59-47b7-ff28-c22258ad87d3"
      },
      "execution_count": null,
      "outputs": [
        {
          "output_type": "stream",
          "name": "stdout",
          "text": [
            "Looking in indexes: https://pypi.org/simple, https://us-python.pkg.dev/colab-wheels/public/simple/\n",
            "Collecting edt\n",
            "  Downloading edt-2.3.0-cp38-cp38-manylinux_2_17_x86_64.manylinux2014_x86_64.whl (2.9 MB)\n",
            "\u001b[K     |████████████████████████████████| 2.9 MB 15.3 MB/s \n",
            "\u001b[?25hRequirement already satisfied: numpy in /usr/local/lib/python3.8/dist-packages (from edt) (1.21.6)\n",
            "Installing collected packages: edt\n",
            "Successfully installed edt-2.3.0\n"
          ]
        }
      ]
    },
    {
      "cell_type": "code",
      "source": [
        "import numpy as np\n",
        "import os\n",
        "import glob\n",
        "import cv2\n",
        "import edt\n",
        "\n",
        "allowable_extensions = ['.png', '.tif', '.tiff', '.bmp', '.dib', '.jpg', '.jpeg']\n",
        "\n",
        "def get_index_from_file_name(path_name):\n",
        "    ''' return index from path_name\n",
        "        e.g. for image0001 index is 1\n",
        "     '''\n",
        "    file_name = path_splitted = os.path.split(path_name)[-1]\n",
        "    file_name = os.path.splitext(file_name)[0]\n",
        "    i = len(file_name) - 1\n",
        "    while(file_name[i].isdigit()== True and i >= 0 ):\n",
        "        i -= 1\n",
        "    if i == len(file_name) - 1: # there are no any digits\n",
        "        return -1\n",
        "    return int(file_name[i+1:])\n",
        "\n",
        "def read_slices(path_to_first_slice):\n",
        "\n",
        "    # check correctness of type of input parameter\n",
        "    if not isinstance(path_to_first_slice, str):\n",
        "        raise TypeError('Parameter path_to_first_slice has to be string!')\n",
        "\n",
        "    path_splitted = os.path.split(path_to_first_slice)\n",
        "    first_slice_file_name = path_splitted[-1]\n",
        "    filename_splitted = os.path.splitext(first_slice_file_name)\n",
        "    first_slice_extension = filename_splitted[-1]\n",
        "    if not first_slice_extension in allowable_extensions:\n",
        "        raise ValueError(first_slice_file_name + ' is unsupported file format!')\n",
        "    # open first slice\n",
        "    slice1 = cv2.imread(path_to_first_slice, cv2.IMREAD_ANYDEPTH)\n",
        "    if slice1 is None:\n",
        "        raise ValueError('OpenCV reading error for : ' + path_to_first_slice)\n",
        "    # check dimensions and bit depth\n",
        "    if slice1.ndim != 2:\n",
        "        raise ValueError(path_to_first_slice + ' must be grayscale 2D image')\n",
        "    if slice1.dtype != np.uint8: # and slice1.dtype != np.uint16:\n",
        "        raise ValueError(path_to_first_slice + ' has wrong bit depth.')\n",
        "\n",
        "    # forming of template for file names of slices\n",
        "    template_name = filename_splitted[0]\n",
        "    # trim digits on end of filename and calculate number of digits\n",
        "    digits_len = 0\n",
        "    while (len(template_name) > 0 and template_name[-1].isdigit() == True):\n",
        "        template_name = template_name[:-1]\n",
        "        digits_len += 1\n",
        "    # checking of digits in the end of file name\n",
        "    if digits_len < 3:\n",
        "        raise ValueError('Incorrect name of first slice, 4 or more digits should be in the end of file name: ' + first_slice_file_name)\n",
        "    search_template = '%s' % template_name # string copying via formatting\n",
        "    for i in range(0, digits_len):\n",
        "        search_template += \"?\"\n",
        "    # looking for maximal index of slice\n",
        "    files_list = glob.glob(os.path.join(path_splitted[0], search_template + first_slice_extension))\n",
        "    max_slice_index = 0\n",
        "    for file_name in files_list:\n",
        "        slice_index = get_index_from_file_name(file_name)\n",
        "        if slice_index > max_slice_index:\n",
        "            max_slice_index = slice_index\n",
        "\n",
        "    first_slice_index = int(filename_splitted[0][-digits_len:])\n",
        "    template_name = os.path.join(path_splitted[0], template_name + \"{0:0\" + str(digits_len) + \"}\" +\n",
        "                                 first_slice_extension)\n",
        "\n",
        "    # memory allocation for image\n",
        "    i3d = np.zeros((max_slice_index - first_slice_index + 1,) + slice1.shape, dtype=slice1.dtype)\n",
        "    i3d[0] = slice1\n",
        "    # loop through all indexes\n",
        "    k = 1\n",
        "    for i in range(first_slice_index + 1, max_slice_index + 1):\n",
        "        i3d[k] = cv2.imread(template_name.format(i), cv2.IMREAD_ANYDEPTH)\n",
        "        k += 1\n",
        "\n",
        "    return i3d\n",
        "\n"
      ],
      "metadata": {
        "id": "vJvzpypDq4K0"
      },
      "execution_count": null,
      "outputs": []
    },
    {
      "cell_type": "code",
      "source": [
        "img=read_slices(\"/content/drive/MyDrive/Model300/im_000.png\")\n",
        "img.shape"
      ],
      "metadata": {
        "id": "3qRb4ozr5oOo"
      },
      "execution_count": null,
      "outputs": []
    },
    {
      "cell_type": "code",
      "source": [
        "import matplotlib.pyplot as plt\n",
        "plt.imshow(img[0,:,:], cmap = plt.cm.gray), plt.axis('off')\n",
        "plt.show()"
      ],
      "metadata": {
        "id": "2j5NKDis30BE",
        "colab": {
          "base_uri": "https://localhost:8080/",
          "height": 248
        },
        "outputId": "b6e74e7d-f598-409e-b15e-3d52330acc7f"
      },
      "execution_count": null,
      "outputs": [
        {
          "output_type": "display_data",
          "data": {
            "text/plain": [
              "<Figure size 432x288 with 1 Axes>"
            ],
            "image/png": "[encoded data removed]"
          },
          "metadata": {
            "needs_background": "light"
          }
        }
      ]
    },
    {
      "cell_type": "code",
      "source": [
        "\n",
        "img = np.zeros((100,100),np.uint8)\n",
        "img[:50,50:60] = 255\n",
        "img[50:60,20:60] = 255\n",
        "img[20:50,20:30] = 255\n",
        "img[20:25,10:20] = 255\n",
        "img[25:,10:15] = 255\n",
        "#img[:20,30:40] = 255\n",
        "#img[20:30,30:80] = 255\n",
        "#img[30:50,70:80] = 255\n",
        "#img[50:60,20:80] = 255\n",
        "#img[50:75,20:30] = 255\n",
        "#img[75:80,20:90] = 255\n",
        "#img[80:,85:90] = 255\n",
        "mask = img == 255\n",
        "import matplotlib.pyplot as plt\n",
        "plt.imshow(mask, cmap = plt.cm.gray), plt.axis('off')\n",
        "plt.show()"
      ],
      "metadata": {
        "id": "xOYwKKPkFcB7",
        "outputId": "d24eeb20-7796-474d-d5c2-20c8a6867ba1",
        "colab": {
          "base_uri": "https://localhost:8080/",
          "height": 248
        }
      },
      "execution_count": null,
      "outputs": [
        {
          "output_type": "display_data",
          "data": {
            "text/plain": [
              "<Figure size 432x288 with 1 Axes>"
            ],
            "image/png": "[encoded data removed]"
          },
          "metadata": {
            "needs_background": "light"
          }
        }
      ]
    },
    {
      "cell_type": "code",
      "source": [
        "\n",
        "img = np.zeros((100,100),np.uint8)\n",
        "img[:20,30:40] = 255\n",
        "img[20:30,30:80] = 255\n",
        "img[30:50,70:80] = 255\n",
        "img[50:60,20:80] = 255\n",
        "img[50:75,20:30] = 255\n",
        "img[75:80,20:90] = 255\n",
        "img[80:,85:90] = 255\n",
        "mask = img == 255\n",
        "import matplotlib.pyplot as plt\n",
        "plt.imshow(mask, cmap = plt.cm.gray), plt.axis('off')\n",
        "plt.show()"
      ],
      "metadata": {
        "id": "Kv5ED0py1bG1",
        "outputId": "bc008829-e295-424c-e3eb-a0cfdc4ae419",
        "colab": {
          "base_uri": "https://localhost:8080/",
          "height": 248
        }
      },
      "execution_count": null,
      "outputs": [
        {
          "output_type": "display_data",
          "data": {
            "text/plain": [
              "<Figure size 432x288 with 1 Axes>"
            ],
            "image/png": "[encoded data removed]"
          },
          "metadata": {
            "needs_background": "light"
          }
        }
      ]
    },
    {
      "cell_type": "code",
      "source": [
        "\n",
        "img = np.zeros((100,100),np.uint8)\n",
        "img[:,40:70] = 255\n",
        "mask = img == 255\n",
        "import matplotlib.pyplot as plt\n",
        "plt.imshow(mask, cmap = plt.cm.gray), plt.axis('off')\n",
        "plt.show()"
      ],
      "metadata": {
        "colab": {
          "base_uri": "https://localhost:8080/",
          "height": 248
        },
        "id": "XaThbAbJAW8R",
        "outputId": "e9389b1f-fe2c-4c5d-99b2-ed6283d29ec6"
      },
      "execution_count": null,
      "outputs": [
        {
          "output_type": "display_data",
          "data": {
            "text/plain": [
              "<Figure size 432x288 with 1 Axes>"
            ],
            "image/png": "[encoded data removed]"
          },
          "metadata": {
            "needs_background": "light"
          }
        }
      ]
    },
    {
      "cell_type": "code",
      "source": [
        "img = np.zeros((100,100),np.uint8)\n",
        "img[:,40:45] = 255\n",
        "mask = img == 255\n",
        "import matplotlib.pyplot as plt\n",
        "plt.imshow(mask, cmap = plt.cm.gray), plt.axis('off')\n",
        "plt.show()"
      ],
      "metadata": {
        "colab": {
          "base_uri": "https://localhost:8080/",
          "height": 248
        },
        "id": "Zbp9jCHbCNal",
        "outputId": "dd17b370-86c8-4fca-8be1-677e5dbee36c"
      },
      "execution_count": null,
      "outputs": [
        {
          "output_type": "display_data",
          "data": {
            "text/plain": [
              "<Figure size 432x288 with 1 Axes>"
            ],
            "image/png": "[encoded data removed]"
          },
          "metadata": {
            "needs_background": "light"
          }
        }
      ]
    },
    {
      "cell_type": "code",
      "source": [
        "\n",
        "img = np.zeros((100,100),np.uint8)\n",
        "img[:50,50:60] = 255\n",
        "img[50:60,20:60] = 255\n",
        "img[20:50,20:30] = 255\n",
        "img[20:25,10:20] = 255\n",
        "mask = img == 255\n",
        "import matplotlib.pyplot as plt\n",
        "plt.imshow(mask, cmap = plt.cm.gray), plt.axis('off')\n",
        "plt.show()"
      ],
      "metadata": {
        "colab": {
          "base_uri": "https://localhost:8080/",
          "height": 248
        },
        "id": "fNu7bes1AdeQ",
        "outputId": "717822c6-01fe-4f8d-e1ad-685337d667af"
      },
      "execution_count": null,
      "outputs": [
        {
          "output_type": "display_data",
          "data": {
            "text/plain": [
              "<Figure size 432x288 with 1 Axes>"
            ],
            "image/png": "[encoded data removed]"
          },
          "metadata": {
            "needs_background": "light"
          }
        }
      ]
    },
    {
      "cell_type": "code",
      "source": [
        "\n",
        "img = np.zeros((100,100),np.uint8)\n",
        "img[:50,50:60] = 255\n",
        "img[50:60,20:60] = 255\n",
        "img[20:50,20:30] = 255\n",
        "img[20:25,10:20] = 255\n",
        "mask = img == 255\n",
        "import matplotlib.pyplot as plt\n",
        "plt.imshow(mask, cmap = plt.cm.gray), plt.axis('off')\n",
        "plt.show()"
      ],
      "metadata": {
        "colab": {
          "base_uri": "https://localhost:8080/",
          "height": 248
        },
        "id": "SgntMtKXDBkc",
        "outputId": "317614fd-5844-43ae-de46-08747a9a9bae"
      },
      "execution_count": null,
      "outputs": [
        {
          "output_type": "display_data",
          "data": {
            "text/plain": [
              "<Figure size 432x288 with 1 Axes>"
            ],
            "image/png": "[encoded data removed]"
          },
          "metadata": {
            "needs_background": "light"
          }
        }
      ]
    },
    {
      "cell_type": "code",
      "source": [
        "\n",
        "img = np.zeros((100,100),np.uint8)\n",
        "img[20:50,50:60] = 255\n",
        "#img[50:60,20:60] = 255\n",
        "#img[20:50,20:30] = 255\n",
        "img[20:40,10:20] = 255\n",
        "mask = img == 255\n",
        "import matplotlib.pyplot as plt\n",
        "plt.imshow(mask, cmap = plt.cm.gray), plt.axis('off')\n",
        "plt.show()"
      ],
      "metadata": {
        "colab": {
          "base_uri": "https://localhost:8080/",
          "height": 248
        },
        "id": "YqjGRXE7Dd-X",
        "outputId": "69476f91-d9c8-4155-a908-20488f8960f4"
      },
      "execution_count": null,
      "outputs": [
        {
          "output_type": "display_data",
          "data": {
            "text/plain": [
              "<Figure size 432x288 with 1 Axes>"
            ],
            "image/png": "[encoded data removed]"
          },
          "metadata": {
            "needs_background": "light"
          }
        }
      ]
    },
    {
      "cell_type": "code",
      "source": [
        "def geodesic_distance_bf(mask, seed):\n",
        "    gd       = np.zeros_like(seed, np.int32)\n",
        "    seeds    = seed.copy()\n",
        "    prev_sum = np.sum(seeds)\n",
        "    curr_sum = prev_sum + 1\n",
        "    loopcnt  = 0\n",
        "    while prev_sum != curr_sum:\n",
        "        prev_sum = curr_sum\n",
        "        sml_dt   = edt.edt(~seeds, parallel=0) <= 1\n",
        "        seeds   |= sml_dt & mask\n",
        "        gd      += seeds\n",
        "        curr_sum = np.sum(seeds)\n",
        "        loopcnt += 1\n",
        "    \n",
        "    print(\"Loop ran %d times\" % loopcnt)\n",
        "    return (np.max(gd) - gd).astype(np.int32)\n",
        "\n",
        "seeds = np.zeros_like(mask, 'bool')\n",
        "seeds[0, :] = mask[0, :]\n",
        "gd = geodesic_distance_bf(mask, seeds)\n",
        "plt.imshow(gd, cmap=plt.cm.gray,interpolation='nearest'), plt.axis('off')\n",
        "plt.show()\n",
        "print(\"Tortuosity =\", gd.shape[0] / np.min(gd[-1, :]))"
      ],
      "metadata": {
        "colab": {
          "base_uri": "https://localhost:8080/",
          "height": 317
        },
        "id": "GakMq9ewPwV5",
        "outputId": "91e766da-751f-4b27-f164-16c6b7697ebb"
      },
      "execution_count": null,
      "outputs": [
        {
          "output_type": "stream",
          "name": "stdout",
          "text": [
            "Loop ran 2 times\n"
          ]
        },
        {
          "output_type": "display_data",
          "data": {
            "text/plain": [
              "<Figure size 432x288 with 1 Axes>"
            ],
            "image/png": "[encoded data removed]"
          },
          "metadata": {
            "needs_background": "light"
          }
        },
        {
          "output_type": "stream",
          "name": "stdout",
          "text": [
            "Tortuosity = inf\n"
          ]
        },
        {
          "output_type": "stream",
          "name": "stderr",
          "text": [
            "<ipython-input-26-5704ad651a40>:23: RuntimeWarning: divide by zero encountered in true_divide\n",
            "  print(\"Tortuosity =\", gd.shape[0] / np.min(gd[-1, :]))\n"
          ]
        }
      ]
    },
    {
      "cell_type": "code",
      "source": [],
      "metadata": {
        "id": "mSEhJ4fAGaoh"
      },
      "execution_count": null,
      "outputs": []
    },
    {
      "cell_type": "code",
      "source": [
        "def geodesic_distance_bf(mask, seed):\n",
        "    gd = np.zeros(seed.shape, np.int32)\n",
        "\n",
        "    seeds = seed\n",
        "    prev_sum = np.sum(seeds)\n",
        "    while (True):\n",
        "        dt = edt.edt(np.logical_not(seeds), parallel=0)\n",
        "        layer = np.logical_and(dt <= 1, mask)\n",
        "        seeds = np.logical_or(seeds, layer)\n",
        "        cur_sum = np.sum(seeds)\n",
        "        gd += seeds\n",
        "        if cur_sum == prev_sum:\n",
        "            break\n",
        "        prev_sum = cur_sum\n",
        "\n",
        "    gd = np.max(gd) * np.ones(gd.shape, np.int32) - gd\n",
        "    return gd\n",
        "\n",
        "\n",
        "seeds = np.zeros((mask.shape), np.uint8)\n",
        "seeds[0, :] = 1\n",
        "seeds = np.logical_and(seeds, mask)\n",
        "\n",
        "gd = geodesic_distance_bf(mask, seeds)\n",
        "\n",
        "plt.imshow(gd, cmap=plt.cm.gray,interpolation='nearest'), plt.axis('off')\n",
        "plt.show()\n",
        "print(\"tortuosity =\", gd.shape[0] / np.min(gd[-1, :]))"
      ],
      "metadata": {
        "id": "W8wQ_irS5hZt",
        "colab": {
          "base_uri": "https://localhost:8080/",
          "height": 265
        },
        "outputId": "d828a7be-f35f-4528-9fd8-662675616b73"
      },
      "execution_count": null,
      "outputs": [
        {
          "output_type": "display_data",
          "data": {
            "text/plain": [
              "<Figure size 432x288 with 1 Axes>"
            ],
            "image/png": "[encoded data removed]"
          },
          "metadata": {
            "needs_background": "light"
          }
        },
        {
          "output_type": "stream",
          "name": "stdout",
          "text": [
            "tortuosity = 0.8264462809917356\n"
          ]
        }
      ]
    },
    {
      "cell_type": "code",
      "source": [
        "def geodesic_distance_bf(mask, seed):\n",
        "    gd = np.zeros(seed.shape, np.int32)\n",
        "\n",
        "    seeds = seed\n",
        "    prev_sum = np.sum(seeds)\n",
        "    while (True):\n",
        "        dt = edt.edt(np.logical_not(seeds), parallel=0)\n",
        "        layer = np.logical_and(dt <= 1, mask)\n",
        "        seeds = np.logical_or(seeds, layer)\n",
        "        cur_sum = np.sum(seeds)\n",
        "        gd += seeds\n",
        "        if cur_sum == prev_sum:\n",
        "            break\n",
        "        prev_sum = cur_sum\n",
        "\n",
        "    gd = np.max(gd) * np.ones(gd.shape, np.int32) - gd\n",
        "    return gd\n",
        "\n",
        "\n",
        "seeds = np.zeros((mask.shape), np.uint8)\n",
        "seeds[0, :] = 1\n",
        "seeds = np.logical_and(seeds, mask)\n",
        "\n",
        "gd = geodesic_distance_bf(mask, seeds)\n",
        "\n",
        "plt.imshow(gd, cmap=plt.cm.gray), plt.axis('off')\n",
        "plt.show()\n",
        "print(\"tortuosity =\", gd.shape[0] / np.min(gd[-1, :]))"
      ],
      "metadata": {
        "id": "OwVDtc9Lat9P",
        "colab": {
          "base_uri": "https://localhost:8080/",
          "height": 265
        },
        "outputId": "995d16e7-ea42-422d-8405-2803d0921cbd"
      },
      "execution_count": null,
      "outputs": [
        {
          "output_type": "display_data",
          "data": {
            "text/plain": [
              "<Figure size 432x288 with 1 Axes>"
            ],
            "image/png": "[encoded data removed]"
          },
          "metadata": {
            "needs_background": "light"
          }
        },
        {
          "output_type": "stream",
          "name": "stdout",
          "text": [
            "tortuosity = 0.4424778761061947\n"
          ]
        }
      ]
    }
  ]
}